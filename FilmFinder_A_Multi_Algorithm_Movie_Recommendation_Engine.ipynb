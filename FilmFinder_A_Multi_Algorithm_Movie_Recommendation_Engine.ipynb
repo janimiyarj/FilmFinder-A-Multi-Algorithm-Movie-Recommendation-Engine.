{
  "nbformat": 4,
  "nbformat_minor": 0,
  "metadata": {
    "colab": {
      "provenance": [],
      "gpuType": "T4"
    },
    "kernelspec": {
      "name": "python3",
      "display_name": "Python 3"
    },
    "language_info": {
      "name": "python"
    },
    "accelerator": "GPU"
  },
  "cells": [
    {
      "cell_type": "code",
      "execution_count": 1,
      "metadata": {
        "colab": {
          "base_uri": "https://localhost:8080/"
        },
        "id": "pa9QzJ3eISMG",
        "outputId": "488e0001-9205-4bee-c584-3d97df60c509"
      },
      "outputs": [
        {
          "output_type": "stream",
          "name": "stdout",
          "text": [
            "Requirement already satisfied: pandas in /usr/local/lib/python3.10/dist-packages (2.2.2)\n",
            "Requirement already satisfied: numpy in /usr/local/lib/python3.10/dist-packages (1.26.4)\n",
            "Requirement already satisfied: scikit-learn in /usr/local/lib/python3.10/dist-packages (1.5.2)\n",
            "Collecting surprise\n",
            "  Downloading surprise-0.1-py2.py3-none-any.whl.metadata (327 bytes)\n",
            "Requirement already satisfied: transformers in /usr/local/lib/python3.10/dist-packages (4.44.2)\n",
            "Requirement already satisfied: python-dateutil>=2.8.2 in /usr/local/lib/python3.10/dist-packages (from pandas) (2.8.2)\n",
            "Requirement already satisfied: pytz>=2020.1 in /usr/local/lib/python3.10/dist-packages (from pandas) (2024.2)\n",
            "Requirement already satisfied: tzdata>=2022.7 in /usr/local/lib/python3.10/dist-packages (from pandas) (2024.2)\n",
            "Requirement already satisfied: scipy>=1.6.0 in /usr/local/lib/python3.10/dist-packages (from scikit-learn) (1.13.1)\n",
            "Requirement already satisfied: joblib>=1.2.0 in /usr/local/lib/python3.10/dist-packages (from scikit-learn) (1.4.2)\n",
            "Requirement already satisfied: threadpoolctl>=3.1.0 in /usr/local/lib/python3.10/dist-packages (from scikit-learn) (3.5.0)\n",
            "Collecting scikit-surprise (from surprise)\n",
            "  Downloading scikit_surprise-1.1.4.tar.gz (154 kB)\n",
            "\u001b[2K     \u001b[90m━━━━━━━━━━━━━━━━━━━━━━━━━━━━━━━━━━━━━━━━\u001b[0m \u001b[32m154.4/154.4 kB\u001b[0m \u001b[31m7.5 MB/s\u001b[0m eta \u001b[36m0:00:00\u001b[0m\n",
            "\u001b[?25h  Installing build dependencies ... \u001b[?25l\u001b[?25hdone\n",
            "  Getting requirements to build wheel ... \u001b[?25l\u001b[?25hdone\n",
            "  Preparing metadata (pyproject.toml) ... \u001b[?25l\u001b[?25hdone\n",
            "Requirement already satisfied: filelock in /usr/local/lib/python3.10/dist-packages (from transformers) (3.16.1)\n",
            "Requirement already satisfied: huggingface-hub<1.0,>=0.23.2 in /usr/local/lib/python3.10/dist-packages (from transformers) (0.24.7)\n",
            "Requirement already satisfied: packaging>=20.0 in /usr/local/lib/python3.10/dist-packages (from transformers) (24.1)\n",
            "Requirement already satisfied: pyyaml>=5.1 in /usr/local/lib/python3.10/dist-packages (from transformers) (6.0.2)\n",
            "Requirement already satisfied: regex!=2019.12.17 in /usr/local/lib/python3.10/dist-packages (from transformers) (2024.9.11)\n",
            "Requirement already satisfied: requests in /usr/local/lib/python3.10/dist-packages (from transformers) (2.32.3)\n",
            "Requirement already satisfied: safetensors>=0.4.1 in /usr/local/lib/python3.10/dist-packages (from transformers) (0.4.5)\n",
            "Requirement already satisfied: tokenizers<0.20,>=0.19 in /usr/local/lib/python3.10/dist-packages (from transformers) (0.19.1)\n",
            "Requirement already satisfied: tqdm>=4.27 in /usr/local/lib/python3.10/dist-packages (from transformers) (4.66.6)\n",
            "Requirement already satisfied: fsspec>=2023.5.0 in /usr/local/lib/python3.10/dist-packages (from huggingface-hub<1.0,>=0.23.2->transformers) (2024.10.0)\n",
            "Requirement already satisfied: typing-extensions>=3.7.4.3 in /usr/local/lib/python3.10/dist-packages (from huggingface-hub<1.0,>=0.23.2->transformers) (4.12.2)\n",
            "Requirement already satisfied: six>=1.5 in /usr/local/lib/python3.10/dist-packages (from python-dateutil>=2.8.2->pandas) (1.16.0)\n",
            "Requirement already satisfied: charset-normalizer<4,>=2 in /usr/local/lib/python3.10/dist-packages (from requests->transformers) (3.4.0)\n",
            "Requirement already satisfied: idna<4,>=2.5 in /usr/local/lib/python3.10/dist-packages (from requests->transformers) (3.10)\n",
            "Requirement already satisfied: urllib3<3,>=1.21.1 in /usr/local/lib/python3.10/dist-packages (from requests->transformers) (2.2.3)\n",
            "Requirement already satisfied: certifi>=2017.4.17 in /usr/local/lib/python3.10/dist-packages (from requests->transformers) (2024.8.30)\n",
            "Downloading surprise-0.1-py2.py3-none-any.whl (1.8 kB)\n",
            "Building wheels for collected packages: scikit-surprise\n",
            "  Building wheel for scikit-surprise (pyproject.toml) ... \u001b[?25l\u001b[?25hdone\n",
            "  Created wheel for scikit-surprise: filename=scikit_surprise-1.1.4-cp310-cp310-linux_x86_64.whl size=2357284 sha256=5e21473c8233a728c7314e12d57e85cd70ca286a0d8ba64fd7b4f46c32bf2393\n",
            "  Stored in directory: /root/.cache/pip/wheels/4b/3f/df/6acbf0a40397d9bf3ff97f582cc22fb9ce66adde75bc71fd54\n",
            "Successfully built scikit-surprise\n",
            "Installing collected packages: scikit-surprise, surprise\n",
            "Successfully installed scikit-surprise-1.1.4 surprise-0.1\n"
          ]
        }
      ],
      "source": [
        "pip install pandas numpy scikit-learn surprise transformers\n"
      ]
    },
    {
      "cell_type": "code",
      "source": [
        "import pandas as pd\n",
        "import numpy as np\n",
        "from sklearn.feature_extraction.text import TfidfVectorizer\n",
        "from sklearn.metrics.pairwise import linear_kernel\n",
        "from surprise import Dataset, Reader, SVD\n",
        "from surprise.model_selection import train_test_split\n",
        "from transformers import pipeline"
      ],
      "metadata": {
        "id": "b_zhT8fdIVGz"
      },
      "execution_count": 2,
      "outputs": []
    },
    {
      "cell_type": "code",
      "source": [
        "# Load the MovieLens 20M dataset\n",
        "movies = pd.read_csv('/content/movie.csv')\n",
        "ratings = pd.read_csv('/content/rating.csv')\n",
        "print(\"Movies:\")\n",
        "print(movies.head())\n",
        "print(\"\\nRatings:\")\n",
        "print(ratings.head())\n"
      ],
      "metadata": {
        "colab": {
          "base_uri": "https://localhost:8080/"
        },
        "id": "xUKv4hXCI2nq",
        "outputId": "05d3e4eb-c32d-47e4-cc31-d846f4dcfa18"
      },
      "execution_count": 3,
      "outputs": [
        {
          "output_type": "stream",
          "name": "stdout",
          "text": [
            "Movies:\n",
            "   movieId                               title  \\\n",
            "0        1                    Toy Story (1995)   \n",
            "1        2                      Jumanji (1995)   \n",
            "2        3             Grumpier Old Men (1995)   \n",
            "3        4            Waiting to Exhale (1995)   \n",
            "4        5  Father of the Bride Part II (1995)   \n",
            "\n",
            "                                        genres  \n",
            "0  Adventure|Animation|Children|Comedy|Fantasy  \n",
            "1                   Adventure|Children|Fantasy  \n",
            "2                               Comedy|Romance  \n",
            "3                         Comedy|Drama|Romance  \n",
            "4                                       Comedy  \n",
            "\n",
            "Ratings:\n",
            "   userId  movieId  rating            timestamp\n",
            "0       1        2     3.5  2005-04-02 23:53:47\n",
            "1       1       29     3.5  2005-04-02 23:31:16\n",
            "2       1       32     3.5  2005-04-02 23:33:39\n",
            "3       1       47     3.5  2005-04-02 23:32:07\n",
            "4       1       50     3.5  2005-04-02 23:29:40\n"
          ]
        }
      ]
    },
    {
      "cell_type": "code",
      "source": [
        "# Popularity Filtering\n",
        "def popularity_recommendations(n=10):\n",
        "    popular_movies = ratings.groupby('movieId').size().reset_index(name='count')\n",
        "    popular_movies = popular_movies.merge(movies, on='movieId')\n",
        "    popular_movies = popular_movies.sort_values('count', ascending=False).head(n)\n",
        "    return popular_movies[['title', 'count']]"
      ],
      "metadata": {
        "id": "jG8SRkQeJSWA"
      },
      "execution_count": 4,
      "outputs": []
    },
    {
      "cell_type": "code",
      "source": [
        "#Content Based Filtering\n",
        "def content_based_recommendations(title, n=10):\n",
        "    # Check if the title exists in the DataFrame\n",
        "    if title not in movies['title'].values:\n",
        "        print(f\"Movie '{title}' not found in the dataset.\")\n",
        "        return pd.DataFrame()  # Return an empty DataFrame\n",
        "\n",
        "    tfidf = TfidfVectorizer(stop_words='english')\n",
        "    movies['genres'] = movies['genres'].str.replace('|', ' ')\n",
        "    tfidf_matrix = tfidf.fit_transform(movies['genres'])\n",
        "\n",
        "    cosine_sim = linear_kernel(tfidf_matrix, tfidf_matrix)\n",
        "\n",
        "    idx = movies.index[movies['title'].str.lower() == title.lower()][0]  # Case insensitive search\n",
        "    sim_scores = list(enumerate(cosine_sim[idx]))\n",
        "    sim_scores = sorted(sim_scores, key=lambda x: x[1], reverse=True)\n",
        "    sim_scores = sim_scores[1:n+1]\n",
        "\n",
        "    movie_indices = [i[0] for i in sim_scores]\n",
        "    return movies.iloc[movie_indices][['title', 'genres']]\n"
      ],
      "metadata": {
        "id": "YEz13-H0KLGx"
      },
      "execution_count": 5,
      "outputs": []
    },
    {
      "cell_type": "code",
      "source": [
        "# Collaborative Filtering using SVD\n",
        "def collaborative_recommendations(user_id, n=10):\n",
        "    reader = Reader(rating_scale=(0.5, 5.0))\n",
        "    data = Dataset.load_from_df(ratings[['userId', 'movieId', 'rating']], reader)\n",
        "    trainset, testset = train_test_split(data, test_size=0.2)\n",
        "\n",
        "    algo = SVD()\n",
        "    algo.fit(trainset)\n",
        "\n",
        "    user_movies = ratings[ratings['userId'] == user_id]['movieId']\n",
        "    all_movies = ratings['movieId'].unique()\n",
        "    movies_to_predict = [movie for movie in all_movies if movie not in user_movies.values]\n",
        "\n",
        "    predictions = []\n",
        "    for movie in movies_to_predict:\n",
        "        predictions.append((movie, algo.predict(user_id, movie).est))\n",
        "\n",
        "    predictions.sort(key=lambda x: x[1], reverse=True)\n",
        "    top_predictions = predictions[:n]\n",
        "\n",
        "    return movies[movies['movieId'].isin([x[0] for x in top_predictions])][['title']]"
      ],
      "metadata": {
        "id": "t4aFhb_lKNIJ"
      },
      "execution_count": 6,
      "outputs": []
    },
    {
      "cell_type": "code",
      "source": [
        "# LLMs for Recommendation\n",
        "def llm_recommendations(prompt, n=10):\n",
        "    nlp = pipeline('text-generation', model='gpt2')  # or any other LLM model you prefer\n",
        "    response = nlp(prompt, max_length=50, num_return_sequences=1)\n",
        "    return response[0]['generated_text']"
      ],
      "metadata": {
        "id": "bf-BXgAqKPr2"
      },
      "execution_count": 7,
      "outputs": []
    },
    {
      "cell_type": "code",
      "source": [
        "print(\"Popularity Recommendations:\")\n",
        "print(popularity_recommendations())"
      ],
      "metadata": {
        "colab": {
          "base_uri": "https://localhost:8080/"
        },
        "id": "9YHYKBNiKR8e",
        "outputId": "c7612981-fb20-4c83-96ef-4d8c8524fafa"
      },
      "execution_count": 8,
      "outputs": [
        {
          "output_type": "stream",
          "name": "stdout",
          "text": [
            "Popularity Recommendations:\n",
            "                                          title  count\n",
            "293                         Pulp Fiction (1994)  67310\n",
            "352                         Forrest Gump (1994)  66172\n",
            "315            Shawshank Redemption, The (1994)  63366\n",
            "587            Silence of the Lambs, The (1991)  63299\n",
            "476                        Jurassic Park (1993)  59715\n",
            "257   Star Wars: Episode IV - A New Hope (1977)  54502\n",
            "108                           Braveheart (1995)  53769\n",
            "583           Terminator 2: Judgment Day (1991)  52244\n",
            "2486                         Matrix, The (1999)  51334\n",
            "523                     Schindler's List (1993)  50054\n"
          ]
        }
      ]
    },
    {
      "cell_type": "code",
      "source": [
        "\n",
        "print(\"\\nContent-Based Recommendations for 'Toy Story (1995)':\")\n",
        "print(content_based_recommendations('Toy Story (1995)'))"
      ],
      "metadata": {
        "colab": {
          "base_uri": "https://localhost:8080/"
        },
        "id": "aI0m4U2ZKT_D",
        "outputId": "6339dcd3-ac0f-43f5-8edd-30d8e8ca6c09"
      },
      "execution_count": 10,
      "outputs": [
        {
          "output_type": "stream",
          "name": "stdout",
          "text": [
            "\n",
            "Content-Based Recommendations for 'Toy Story (1995)':\n",
            "                                                   title  \\\n",
            "2209                                         Antz (1998)   \n",
            "3027                                  Toy Story 2 (1999)   \n",
            "3663      Adventures of Rocky and Bullwinkle, The (2000)   \n",
            "3922                    Emperor's New Groove, The (2000)   \n",
            "4790                               Monsters, Inc. (2001)   \n",
            "10114  DuckTales: The Movie - Treasure of the Lost La...   \n",
            "10987                                   Wild, The (2006)   \n",
            "11871                             Shrek the Third (2007)   \n",
            "13337                     Tale of Despereaux, The (2008)   \n",
            "18274  Asterix and the Vikings (Astérix et les Viking...   \n",
            "\n",
            "                                            genres  \n",
            "2209   Adventure Animation Children Comedy Fantasy  \n",
            "3027   Adventure Animation Children Comedy Fantasy  \n",
            "3663   Adventure Animation Children Comedy Fantasy  \n",
            "3922   Adventure Animation Children Comedy Fantasy  \n",
            "4790   Adventure Animation Children Comedy Fantasy  \n",
            "10114  Adventure Animation Children Comedy Fantasy  \n",
            "10987  Adventure Animation Children Comedy Fantasy  \n",
            "11871  Adventure Animation Children Comedy Fantasy  \n",
            "13337  Adventure Animation Children Comedy Fantasy  \n",
            "18274  Adventure Animation Children Comedy Fantasy  \n"
          ]
        }
      ]
    },
    {
      "cell_type": "code",
      "source": [
        "print(\"\\nCollaborative Recommendations for User 1:\")\n",
        "print(collaborative_recommendations(1))"
      ],
      "metadata": {
        "colab": {
          "base_uri": "https://localhost:8080/"
        },
        "id": "Z8-phKVsKXo3",
        "outputId": "14bcfae8-de16-4cc9-8587-09e639ef5055"
      },
      "execution_count": 11,
      "outputs": [
        {
          "output_type": "stream",
          "name": "stdout",
          "text": [
            "\n",
            "Collaborative Recommendations for User 1:\n",
            "                                                   title\n",
            "10286                                    Serenity (2005)\n",
            "13684                                   Star Trek (2009)\n",
            "13748                       Our Folks (Sami swoi) (1967)\n",
            "13996  Heimat - A Chronicle of Germany (Heimat - Eine...\n",
            "15347                                    Betrayal (1983)\n",
            "17018                                 Connections (1978)\n",
            "20540                               Frozen Planet (2011)\n",
            "22919                                Interstellar (2014)\n",
            "24693                          The Imitation Game (2014)\n",
            "24801          Doctor Who: The Time of the Doctor (2013)\n"
          ]
        }
      ]
    },
    {
      "cell_type": "code",
      "source": [
        "print(\"\\nLLM Recommendations for prompt 'Recommend a movie based on a crime theme':\")\n",
        "print(llm_recommendations(\"Recommend a movie based on a crime theme\"))"
      ],
      "metadata": {
        "colab": {
          "base_uri": "https://localhost:8080/"
        },
        "id": "LeKoMEHzOSRp",
        "outputId": "5da3b722-455f-4c6f-a4ee-e7848936a471"
      },
      "execution_count": 12,
      "outputs": [
        {
          "output_type": "stream",
          "name": "stdout",
          "text": [
            "\n",
            "LLM Recommendations for prompt 'Recommend a movie based on a crime theme':\n"
          ]
        },
        {
          "output_type": "stream",
          "name": "stderr",
          "text": [
            "/usr/local/lib/python3.10/dist-packages/transformers/tokenization_utils_base.py:1601: FutureWarning: `clean_up_tokenization_spaces` was not set. It will be set to `True` by default. This behavior will be depracted in transformers v4.45, and will be then set to `False` by default. For more details check this issue: https://github.com/huggingface/transformers/issues/31884\n",
            "  warnings.warn(\n",
            "Truncation was not explicitly activated but `max_length` is provided a specific value, please use `truncation=True` to explicitly truncate examples to max length. Defaulting to 'longest_first' truncation strategy. If you encode pairs of sequences (GLUE-style) with the tokenizer you can select this strategy more precisely by providing a specific strategy to `truncation`.\n",
            "Setting `pad_token_id` to `eos_token_id`:50256 for open-end generation.\n"
          ]
        },
        {
          "output_type": "stream",
          "name": "stdout",
          "text": [
            "Recommend a movie based on a crime theme instead. A movie about the death penalty, a crime theme. No reason to change the title to something else; this won't offend anyone, most of the book will suffice.\n",
            "\n",
            "\n",
            "But this is the\n"
          ]
        }
      ]
    },
    {
      "cell_type": "code",
      "source": [
        "print(movies['title'].unique()[:10])  # Print first 10 titles for verification\n"
      ],
      "metadata": {
        "colab": {
          "base_uri": "https://localhost:8080/"
        },
        "id": "Gs0JjwDpK2Tt",
        "outputId": "be75b7d7-6a94-4fe2-f70c-46aa289a069e"
      },
      "execution_count": 8,
      "outputs": [
        {
          "output_type": "stream",
          "name": "stdout",
          "text": [
            "['Toy Story (1995)' 'Jumanji (1995)' 'Grumpier Old Men (1995)'\n",
            " 'Waiting to Exhale (1995)' 'Father of the Bride Part II (1995)'\n",
            " 'Heat (1995)' 'Sabrina (1995)' 'Tom and Huck (1995)'\n",
            " 'Sudden Death (1995)' 'GoldenEye (1995)']\n"
          ]
        }
      ]
    },
    {
      "cell_type": "code",
      "source": [
        "user_id = 1  # Example user ID\n",
        "true_positive_movies = ['Toy Story (1995)', 'Jumanji (1995)', 'Heat (1995)']  # Movies this user liked\n"
      ],
      "metadata": {
        "id": "FfUkFmPeK2qo"
      },
      "execution_count": 9,
      "outputs": []
    },
    {
      "cell_type": "code",
      "source": [
        "# Generate Recommendations\n",
        "pop_recs = popularity_recommendations()\n",
        "content_recs = content_based_recommendations('Toy Story (1995)')\n",
        "collab_recs = collaborative_recommendations(user_id)\n"
      ],
      "metadata": {
        "id": "3m5KcNlcO-o3"
      },
      "execution_count": 10,
      "outputs": []
    },
    {
      "cell_type": "code",
      "source": [
        "# Flatten the recommendations to a list of titles for evaluation\n",
        "pop_recommendations = pop_recs['title'].tolist()\n",
        "content_recommendations = content_recs['title'].tolist()\n",
        "collab_recommendations = collab_recs['title'].tolist()"
      ],
      "metadata": {
        "id": "rB9x-L03PBJQ"
      },
      "execution_count": 11,
      "outputs": []
    },
    {
      "cell_type": "code",
      "source": [
        "# Combine all recommendations for evaluation\n",
        "all_recommendations = {\n",
        "    \"Popularity\": pop_recommendations,\n",
        "    \"Content-Based\": content_recommendations,\n",
        "    \"Collaborative\": collab_recommendations\n",
        "}"
      ],
      "metadata": {
        "id": "FYwIgat7PEQN"
      },
      "execution_count": 12,
      "outputs": []
    },
    {
      "cell_type": "code",
      "source": [
        "def evaluate_recommendations(true_movies, recommendations):\n",
        "    # Create a binary array for true positives\n",
        "    y_true = [1 if movie in true_movies else 0 for movie in recommendations]\n",
        "    precision = precision_score([1] * len(true_movies) + [0] * (len(recommendations) - len(true_movies)), y_true, zero_division=0)\n",
        "    recall = recall_score([1] * len(true_movies) + [0] * (len(recommendations) - len(true_movies)), y_true, zero_division=0)\n",
        "    return precision, recall"
      ],
      "metadata": {
        "id": "8s5JMRI1PEV6"
      },
      "execution_count": 13,
      "outputs": []
    },
    {
      "cell_type": "code",
      "source": [
        "from sklearn.metrics import precision_score, recall_score"
      ],
      "metadata": {
        "id": "MVa9cLKIXabV"
      },
      "execution_count": 15,
      "outputs": []
    },
    {
      "cell_type": "code",
      "source": [
        "# Print Evaluation Results\n",
        "for method, recs in all_recommendations.items():\n",
        "    precision, recall = evaluate_recommendations(true_positive_movies, recs)\n",
        "    print(f\"{method} Recommendations:\")\n",
        "    print(f\"Precision: {precision:.2f}, Recall: {recall:.2f}\")\n",
        "    print(f\"Recommended Movies: {recs}\\n\")"
      ],
      "metadata": {
        "colab": {
          "base_uri": "https://localhost:8080/"
        },
        "id": "sCH5dvLsPZS_",
        "outputId": "82c550ee-832b-417f-9e75-9bdc0f65382b"
      },
      "execution_count": 16,
      "outputs": [
        {
          "output_type": "stream",
          "name": "stdout",
          "text": [
            "Popularity Recommendations:\n",
            "Precision: 0.00, Recall: 0.00\n",
            "Recommended Movies: ['Pulp Fiction (1994)', 'Forrest Gump (1994)', 'Shawshank Redemption, The (1994)', 'Silence of the Lambs, The (1991)', 'Jurassic Park (1993)', 'Star Wars: Episode IV - A New Hope (1977)', 'Braveheart (1995)', 'Terminator 2: Judgment Day (1991)', 'Matrix, The (1999)', \"Schindler's List (1993)\"]\n",
            "\n",
            "Content-Based Recommendations:\n",
            "Precision: 0.00, Recall: 0.00\n",
            "Recommended Movies: ['Antz (1998)', 'Toy Story 2 (1999)', 'Adventures of Rocky and Bullwinkle, The (2000)', \"Emperor's New Groove, The (2000)\", 'Monsters, Inc. (2001)', 'DuckTales: The Movie - Treasure of the Lost Lamp (1990)', 'Wild, The (2006)', 'Shrek the Third (2007)', 'Tale of Despereaux, The (2008)', 'Asterix and the Vikings (Astérix et les Vikings) (2006)']\n",
            "\n",
            "Collaborative Recommendations:\n",
            "Precision: 0.00, Recall: 0.00\n",
            "Recommended Movies: ['Children of Heaven, The (Bacheha-Ye Aseman) (1997)', 'Pride and Prejudice (1995)', 'Best of Youth, The (La meglio gioventù) (2003)', 'Bittersweet Life, A (Dalkomhan insaeng) (2005)', 'It Might Get Loud (2008)', 'Avengers, The (2012)', 'North & South (2004)', 'Black Mirror (2011)', 'Act of Killing, The (2012)', 'Fawlty Towers (1975-1979)']\n",
            "\n"
          ]
        }
      ]
    },
    {
      "cell_type": "code",
      "source": [
        "print(\"True Positive Movies:\")\n",
        "print(true_positive_movies)\n",
        "\n",
        "print(\"\\nRecommended Movies:\")\n",
        "print(pop_recommendations)\n",
        "print(content_recommendations)\n",
        "print(collab_recommendations)\n"
      ],
      "metadata": {
        "colab": {
          "base_uri": "https://localhost:8080/"
        },
        "id": "xHh_Gmw_PZfq",
        "outputId": "236b9d7e-6326-443f-e83c-71656e3beb0d"
      },
      "execution_count": 17,
      "outputs": [
        {
          "output_type": "stream",
          "name": "stdout",
          "text": [
            "True Positive Movies:\n",
            "['Toy Story (1995)', 'Jumanji (1995)', 'Heat (1995)']\n",
            "\n",
            "Recommended Movies:\n",
            "['Pulp Fiction (1994)', 'Forrest Gump (1994)', 'Shawshank Redemption, The (1994)', 'Silence of the Lambs, The (1991)', 'Jurassic Park (1993)', 'Star Wars: Episode IV - A New Hope (1977)', 'Braveheart (1995)', 'Terminator 2: Judgment Day (1991)', 'Matrix, The (1999)', \"Schindler's List (1993)\"]\n",
            "['Antz (1998)', 'Toy Story 2 (1999)', 'Adventures of Rocky and Bullwinkle, The (2000)', \"Emperor's New Groove, The (2000)\", 'Monsters, Inc. (2001)', 'DuckTales: The Movie - Treasure of the Lost Lamp (1990)', 'Wild, The (2006)', 'Shrek the Third (2007)', 'Tale of Despereaux, The (2008)', 'Asterix and the Vikings (Astérix et les Vikings) (2006)']\n",
            "['Children of Heaven, The (Bacheha-Ye Aseman) (1997)', 'Pride and Prejudice (1995)', 'Best of Youth, The (La meglio gioventù) (2003)', 'Bittersweet Life, A (Dalkomhan insaeng) (2005)', 'It Might Get Loud (2008)', 'Avengers, The (2012)', 'North & South (2004)', 'Black Mirror (2011)', 'Act of Killing, The (2012)', 'Fawlty Towers (1975-1979)']\n"
          ]
        }
      ]
    },
    {
      "cell_type": "code",
      "source": [],
      "metadata": {
        "id": "hsPGZoJLPEZ_"
      },
      "execution_count": null,
      "outputs": []
    }
  ]
}